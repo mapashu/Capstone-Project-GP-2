{
 "cells": [
  {
   "cell_type": "code",
   "execution_count": 1,
   "id": "a98decce-bdec-4de4-a541-07d40ad12581",
   "metadata": {},
   "outputs": [],
   "source": [
    "import pandas as pd\n"
   ]
  },
  {
   "cell_type": "code",
   "execution_count": 3,
   "id": "f9b1351a-6d31-41d2-b5bd-5fb0819a4714",
   "metadata": {},
   "outputs": [
    {
     "data": {
      "text/html": [
       "<div>\n",
       "<style scoped>\n",
       "    .dataframe tbody tr th:only-of-type {\n",
       "        vertical-align: middle;\n",
       "    }\n",
       "\n",
       "    .dataframe tbody tr th {\n",
       "        vertical-align: top;\n",
       "    }\n",
       "\n",
       "    .dataframe thead th {\n",
       "        text-align: right;\n",
       "    }\n",
       "</style>\n",
       "<table border=\"1\" class=\"dataframe\">\n",
       "  <thead>\n",
       "    <tr style=\"text-align: right;\">\n",
       "      <th></th>\n",
       "      <th>name</th>\n",
       "      <th>profit_per_item</th>\n",
       "      <th>COUNT_Sales</th>\n",
       "      <th>Revenue</th>\n",
       "    </tr>\n",
       "  </thead>\n",
       "  <tbody>\n",
       "    <tr>\n",
       "      <th>0</th>\n",
       "      <td>The North Face Apex Bionic Soft Shell Jacket -...</td>\n",
       "      <td>511.097998</td>\n",
       "      <td>12</td>\n",
       "      <td>6133.175976</td>\n",
       "    </tr>\n",
       "    <tr>\n",
       "      <th>1</th>\n",
       "      <td>Nobis Yatesy Parka</td>\n",
       "      <td>568.099998</td>\n",
       "      <td>9</td>\n",
       "      <td>5112.899978</td>\n",
       "    </tr>\n",
       "    <tr>\n",
       "      <th>2</th>\n",
       "      <td>Bergama Natural Raccoon Hooded Stroller - - Mu...</td>\n",
       "      <td>443.244086</td>\n",
       "      <td>11</td>\n",
       "      <td>4875.684942</td>\n",
       "    </tr>\n",
       "    <tr>\n",
       "      <th>3</th>\n",
       "      <td>The North Face Nuptse 2 Jacket - Noah Green/TN...</td>\n",
       "      <td>532.769998</td>\n",
       "      <td>9</td>\n",
       "      <td>4794.929984</td>\n",
       "    </tr>\n",
       "    <tr>\n",
       "      <th>4</th>\n",
       "      <td>Canada Goose Men's Citadel Parka</td>\n",
       "      <td>407.835000</td>\n",
       "      <td>11</td>\n",
       "      <td>4486.185002</td>\n",
       "    </tr>\n",
       "  </tbody>\n",
       "</table>\n",
       "</div>"
      ],
      "text/plain": [
       "                                                name  profit_per_item  \\\n",
       "0  The North Face Apex Bionic Soft Shell Jacket -...       511.097998   \n",
       "1                                 Nobis Yatesy Parka       568.099998   \n",
       "2  Bergama Natural Raccoon Hooded Stroller - - Mu...       443.244086   \n",
       "3  The North Face Nuptse 2 Jacket - Noah Green/TN...       532.769998   \n",
       "4                   Canada Goose Men's Citadel Parka       407.835000   \n",
       "\n",
       "   COUNT_Sales      Revenue  \n",
       "0           12  6133.175976  \n",
       "1            9  5112.899978  \n",
       "2           11  4875.684942  \n",
       "3            9  4794.929984  \n",
       "4           11  4486.185002  "
      ]
     },
     "execution_count": 3,
     "metadata": {},
     "output_type": "execute_result"
    }
   ],
   "source": [
    "df = pd.read_csv(\"bq.csv\")\n",
    "df.head()"
   ]
  },
  {
   "cell_type": "code",
   "execution_count": 4,
   "id": "04005e10-de44-49a6-992d-b6804315e959",
   "metadata": {},
   "outputs": [
    {
     "name": "stdout",
     "output_type": "stream",
     "text": [
      "<class 'pandas.core.frame.DataFrame'>\n",
      "RangeIndex: 1000 entries, 0 to 999\n",
      "Data columns (total 4 columns):\n",
      " #   Column           Non-Null Count  Dtype  \n",
      "---  ------           --------------  -----  \n",
      " 0   name             1000 non-null   object \n",
      " 1   profit_per_item  1000 non-null   float64\n",
      " 2   COUNT_Sales      1000 non-null   int64  \n",
      " 3   Revenue          1000 non-null   float64\n",
      "dtypes: float64(2), int64(1), object(1)\n",
      "memory usage: 31.4+ KB\n"
     ]
    }
   ],
   "source": [
    "df.info()"
   ]
  },
  {
   "cell_type": "code",
   "execution_count": 10,
   "id": "92cdae57-6c70-4e17-8b82-4231445330c6",
   "metadata": {},
   "outputs": [
    {
     "data": {
      "text/plain": [
       "name               0\n",
       "profit_per_item    0\n",
       "COUNT_Sales        0\n",
       "Revenue            0\n",
       "dtype: int64"
      ]
     },
     "execution_count": 10,
     "metadata": {},
     "output_type": "execute_result"
    }
   ],
   "source": [
    "df.isnull().sum()"
   ]
  },
  {
   "cell_type": "code",
   "execution_count": null,
   "id": "24d5e5d9-f40a-4da8-a499-3124263f05f8",
   "metadata": {},
   "outputs": [],
   "source": []
  },
  {
   "cell_type": "code",
   "execution_count": null,
   "id": "805b8627-1106-4adc-b53c-b64bac91a25d",
   "metadata": {},
   "outputs": [],
   "source": []
  },
  {
   "cell_type": "code",
   "execution_count": null,
   "id": "43623782-2d76-442d-b5ff-41d77a64ff4b",
   "metadata": {},
   "outputs": [],
   "source": []
  },
  {
   "cell_type": "code",
   "execution_count": null,
   "id": "92cd0312-bd00-4fbc-8b06-21cac96bb7a8",
   "metadata": {},
   "outputs": [],
   "source": []
  },
  {
   "cell_type": "code",
   "execution_count": null,
   "id": "380ed57a-0e33-4e98-80ca-a9c85aac20f6",
   "metadata": {},
   "outputs": [],
   "source": []
  },
  {
   "cell_type": "code",
   "execution_count": null,
   "id": "c1cd7121-4022-4f75-b590-94bcec12f2af",
   "metadata": {},
   "outputs": [],
   "source": []
  },
  {
   "cell_type": "code",
   "execution_count": null,
   "id": "4252f128-1fb6-426a-a03a-ed5dc6a49dc0",
   "metadata": {},
   "outputs": [],
   "source": []
  },
  {
   "cell_type": "code",
   "execution_count": null,
   "id": "2e9786d2-5586-4b3f-9906-9bdeca0a8e63",
   "metadata": {},
   "outputs": [],
   "source": []
  },
  {
   "cell_type": "code",
   "execution_count": null,
   "id": "7fb9dc42-5749-4836-9cc5-fe23104fab95",
   "metadata": {},
   "outputs": [],
   "source": []
  }
 ],
 "metadata": {
  "kernelspec": {
   "display_name": "Python 3 (ipykernel)",
   "language": "python",
   "name": "python3"
  },
  "language_info": {
   "codemirror_mode": {
    "name": "ipython",
    "version": 3
   },
   "file_extension": ".py",
   "mimetype": "text/x-python",
   "name": "python",
   "nbconvert_exporter": "python",
   "pygments_lexer": "ipython3",
   "version": "3.11.5"
  }
 },
 "nbformat": 4,
 "nbformat_minor": 5
}
